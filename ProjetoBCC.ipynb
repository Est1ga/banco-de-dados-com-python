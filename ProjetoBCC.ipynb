{
  "cells": [
    {
      "cell_type": "markdown",
      "metadata": {
        "id": "view-in-github",
        "colab_type": "text"
      },
      "source": [
        "<a href=\"https://colab.research.google.com/github/Est1ga/banco-de-dados-com-python/blob/main/ProjetoBCC.ipynb\" target=\"_parent\"><img src=\"https://colab.research.google.com/assets/colab-badge.svg\" alt=\"Open In Colab\"/></a>"
      ]
    },
    {
      "cell_type": "code",
      "execution_count": null,
      "metadata": {
        "id": "CqOO-zOJO2xs",
        "colab": {
          "base_uri": "https://localhost:8080/",
          "height": 780
        },
        "outputId": "2dff5a38-3f2e-4698-cf73-a9ff54ee8a26"
      },
      "outputs": [
        {
          "output_type": "stream",
          "name": "stdout",
          "text": [
            "\n",
            "Bem vindo! Neste trabalho iremos analisar alguns dados a respeito do ingresso de estudantes na UFABC por meio do SISU\n",
            "\n",
            "Abaixo segue o nosso banco de dados, lugar esse que vamos buscar as informações de 5126 candidatos que se inscreveram na UFABC pelo SISU.\n",
            "Ele está na ordem padrão disponibilizado pela Universidade. São muitos dados!\n",
            "\n",
            "\n",
            "\n"
          ]
        },
        {
          "output_type": "execute_result",
          "data": {
            "text/plain": [
              "                                 Curso - Campus - Turno  \\\n",
              "0       CIÊNCIA E TECNOLOGIA - SANTO ANDRÉ - MATUTINO   \n",
              "1        CIÊNCIA E TECNOLOGIA - SANTO ANDRÉ - NOTURNO   \n",
              "2     CIÊNCIAS E HUMANIDADES - SÃO BERNARDO DO CAM...   \n",
              "3       CIÊNCIA E TECNOLOGIA - SANTO ANDRÉ - MATUTINO   \n",
              "4       CIÊNCIA E TECNOLOGIA - SANTO ANDRÉ - MATUTINO   \n",
              "...                                                 ...   \n",
              "5123     CIÊNCIA E TECNOLOGIA - SANTO ANDRÉ - NOTURNO   \n",
              "5124    CIÊNCIA E TECNOLOGIA - SANTO ANDRÉ - MATUTINO   \n",
              "5125     CIÊNCIA E TECNOLOGIA - SANTO ANDRÉ - NOTURNO   \n",
              "5126     CIÊNCIA E TECNOLOGIA - SANTO ANDRÉ - NOTURNO   \n",
              "5127                                                NaN   \n",
              "\n",
              "                              Modalidade    Nota  Class. Original  \\\n",
              "0               A0 - Ampla concorrência  813.01              1.0   \n",
              "1               A0 - Ampla concorrência  809.47              1.0   \n",
              "2               A0 - Ampla concorrência  794.52              1.0   \n",
              "3               A0 - Ampla concorrência  792.82              2.0   \n",
              "4               A0 - Ampla concorrência  792.57              3.0   \n",
              "...                                  ...     ...              ...   \n",
              "5123  L2 - Escola Pública + Renda + PPI  487.58             53.0   \n",
              "5124        L1 - Escola Pública + Renda  487.25            107.0   \n",
              "5125  L2 - Escola Pública + Renda + PPI  484.55             54.0   \n",
              "5126                L5 - Escola Pública  484.38            176.0   \n",
              "5127                                5127     NaN              NaN   \n",
              "\n",
              "      Class. Atual          Status Matrícula          Chamada  \\\n",
              "0              0.0  Não Solicitou Matrícula  Chamada Regular   \n",
              "1              0.0  Não Solicitou Matrícula  Chamada Regular   \n",
              "2              0.0             Matriculado(a)  Chamada Regular   \n",
              "3              0.0  Não Solicitou Matrícula  Chamada Regular   \n",
              "4              0.0  Não Solicitou Matrícula  Chamada Regular   \n",
              "...            ...                        ...              ...   \n",
              "5123           4.0          Não Convocado(a)              NaN   \n",
              "5124          64.0          Não Convocado(a)              NaN   \n",
              "5125           5.0          Não Convocado(a)              NaN   \n",
              "5126         155.0          Não Convocado(a)              NaN   \n",
              "5127           NaN                        NaN              NaN   \n",
              "\n",
              "       Modalidade Convocação  \n",
              "0     A0 - Ampla concorrência  \n",
              "1     A0 - Ampla concorrência  \n",
              "2     A0 - Ampla concorrência  \n",
              "3     A0 - Ampla concorrência  \n",
              "4     A0 - Ampla concorrência  \n",
              "...                        ...  \n",
              "5123                       NaN  \n",
              "5124                       NaN  \n",
              "5125                       NaN  \n",
              "5126                       NaN  \n",
              "5127                       NaN  \n",
              "\n",
              "[5128 rows x 8 columns]"
            ],
            "text/html": [
              "\n",
              "  <div id=\"df-bdb1873f-8d49-4ed3-a592-b0a06d044c04\">\n",
              "    <div class=\"colab-df-container\">\n",
              "      <div>\n",
              "<style scoped>\n",
              "    .dataframe tbody tr th:only-of-type {\n",
              "        vertical-align: middle;\n",
              "    }\n",
              "\n",
              "    .dataframe tbody tr th {\n",
              "        vertical-align: top;\n",
              "    }\n",
              "\n",
              "    .dataframe thead th {\n",
              "        text-align: right;\n",
              "    }\n",
              "</style>\n",
              "<table border=\"1\" class=\"dataframe\">\n",
              "  <thead>\n",
              "    <tr style=\"text-align: right;\">\n",
              "      <th></th>\n",
              "      <th>Curso - Campus - Turno</th>\n",
              "      <th>Modalidade</th>\n",
              "      <th>Nota</th>\n",
              "      <th>Class. Original</th>\n",
              "      <th>Class. Atual</th>\n",
              "      <th>Status Matrícula</th>\n",
              "      <th>Chamada</th>\n",
              "      <th>Modalidade Convocação</th>\n",
              "    </tr>\n",
              "  </thead>\n",
              "  <tbody>\n",
              "    <tr>\n",
              "      <th>0</th>\n",
              "      <td>CIÊNCIA E TECNOLOGIA - SANTO ANDRÉ - MATUTINO</td>\n",
              "      <td>A0 - Ampla concorrência</td>\n",
              "      <td>813.01</td>\n",
              "      <td>1.0</td>\n",
              "      <td>0.0</td>\n",
              "      <td>Não Solicitou Matrícula</td>\n",
              "      <td>Chamada Regular</td>\n",
              "      <td>A0 - Ampla concorrência</td>\n",
              "    </tr>\n",
              "    <tr>\n",
              "      <th>1</th>\n",
              "      <td>CIÊNCIA E TECNOLOGIA - SANTO ANDRÉ - NOTURNO</td>\n",
              "      <td>A0 - Ampla concorrência</td>\n",
              "      <td>809.47</td>\n",
              "      <td>1.0</td>\n",
              "      <td>0.0</td>\n",
              "      <td>Não Solicitou Matrícula</td>\n",
              "      <td>Chamada Regular</td>\n",
              "      <td>A0 - Ampla concorrência</td>\n",
              "    </tr>\n",
              "    <tr>\n",
              "      <th>2</th>\n",
              "      <td>CIÊNCIAS E HUMANIDADES - SÃO BERNARDO DO CAM...</td>\n",
              "      <td>A0 - Ampla concorrência</td>\n",
              "      <td>794.52</td>\n",
              "      <td>1.0</td>\n",
              "      <td>0.0</td>\n",
              "      <td>Matriculado(a)</td>\n",
              "      <td>Chamada Regular</td>\n",
              "      <td>A0 - Ampla concorrência</td>\n",
              "    </tr>\n",
              "    <tr>\n",
              "      <th>3</th>\n",
              "      <td>CIÊNCIA E TECNOLOGIA - SANTO ANDRÉ - MATUTINO</td>\n",
              "      <td>A0 - Ampla concorrência</td>\n",
              "      <td>792.82</td>\n",
              "      <td>2.0</td>\n",
              "      <td>0.0</td>\n",
              "      <td>Não Solicitou Matrícula</td>\n",
              "      <td>Chamada Regular</td>\n",
              "      <td>A0 - Ampla concorrência</td>\n",
              "    </tr>\n",
              "    <tr>\n",
              "      <th>4</th>\n",
              "      <td>CIÊNCIA E TECNOLOGIA - SANTO ANDRÉ - MATUTINO</td>\n",
              "      <td>A0 - Ampla concorrência</td>\n",
              "      <td>792.57</td>\n",
              "      <td>3.0</td>\n",
              "      <td>0.0</td>\n",
              "      <td>Não Solicitou Matrícula</td>\n",
              "      <td>Chamada Regular</td>\n",
              "      <td>A0 - Ampla concorrência</td>\n",
              "    </tr>\n",
              "    <tr>\n",
              "      <th>...</th>\n",
              "      <td>...</td>\n",
              "      <td>...</td>\n",
              "      <td>...</td>\n",
              "      <td>...</td>\n",
              "      <td>...</td>\n",
              "      <td>...</td>\n",
              "      <td>...</td>\n",
              "      <td>...</td>\n",
              "    </tr>\n",
              "    <tr>\n",
              "      <th>5123</th>\n",
              "      <td>CIÊNCIA E TECNOLOGIA - SANTO ANDRÉ - NOTURNO</td>\n",
              "      <td>L2 - Escola Pública + Renda + PPI</td>\n",
              "      <td>487.58</td>\n",
              "      <td>53.0</td>\n",
              "      <td>4.0</td>\n",
              "      <td>Não Convocado(a)</td>\n",
              "      <td>NaN</td>\n",
              "      <td>NaN</td>\n",
              "    </tr>\n",
              "    <tr>\n",
              "      <th>5124</th>\n",
              "      <td>CIÊNCIA E TECNOLOGIA - SANTO ANDRÉ - MATUTINO</td>\n",
              "      <td>L1 - Escola Pública + Renda</td>\n",
              "      <td>487.25</td>\n",
              "      <td>107.0</td>\n",
              "      <td>64.0</td>\n",
              "      <td>Não Convocado(a)</td>\n",
              "      <td>NaN</td>\n",
              "      <td>NaN</td>\n",
              "    </tr>\n",
              "    <tr>\n",
              "      <th>5125</th>\n",
              "      <td>CIÊNCIA E TECNOLOGIA - SANTO ANDRÉ - NOTURNO</td>\n",
              "      <td>L2 - Escola Pública + Renda + PPI</td>\n",
              "      <td>484.55</td>\n",
              "      <td>54.0</td>\n",
              "      <td>5.0</td>\n",
              "      <td>Não Convocado(a)</td>\n",
              "      <td>NaN</td>\n",
              "      <td>NaN</td>\n",
              "    </tr>\n",
              "    <tr>\n",
              "      <th>5126</th>\n",
              "      <td>CIÊNCIA E TECNOLOGIA - SANTO ANDRÉ - NOTURNO</td>\n",
              "      <td>L5 - Escola Pública</td>\n",
              "      <td>484.38</td>\n",
              "      <td>176.0</td>\n",
              "      <td>155.0</td>\n",
              "      <td>Não Convocado(a)</td>\n",
              "      <td>NaN</td>\n",
              "      <td>NaN</td>\n",
              "    </tr>\n",
              "    <tr>\n",
              "      <th>5127</th>\n",
              "      <td>NaN</td>\n",
              "      <td>5127</td>\n",
              "      <td>NaN</td>\n",
              "      <td>NaN</td>\n",
              "      <td>NaN</td>\n",
              "      <td>NaN</td>\n",
              "      <td>NaN</td>\n",
              "      <td>NaN</td>\n",
              "    </tr>\n",
              "  </tbody>\n",
              "</table>\n",
              "<p>5128 rows × 8 columns</p>\n",
              "</div>\n",
              "      <button class=\"colab-df-convert\" onclick=\"convertToInteractive('df-bdb1873f-8d49-4ed3-a592-b0a06d044c04')\"\n",
              "              title=\"Convert this dataframe to an interactive table.\"\n",
              "              style=\"display:none;\">\n",
              "        \n",
              "  <svg xmlns=\"http://www.w3.org/2000/svg\" height=\"24px\"viewBox=\"0 0 24 24\"\n",
              "       width=\"24px\">\n",
              "    <path d=\"M0 0h24v24H0V0z\" fill=\"none\"/>\n",
              "    <path d=\"M18.56 5.44l.94 2.06.94-2.06 2.06-.94-2.06-.94-.94-2.06-.94 2.06-2.06.94zm-11 1L8.5 8.5l.94-2.06 2.06-.94-2.06-.94L8.5 2.5l-.94 2.06-2.06.94zm10 10l.94 2.06.94-2.06 2.06-.94-2.06-.94-.94-2.06-.94 2.06-2.06.94z\"/><path d=\"M17.41 7.96l-1.37-1.37c-.4-.4-.92-.59-1.43-.59-.52 0-1.04.2-1.43.59L10.3 9.45l-7.72 7.72c-.78.78-.78 2.05 0 2.83L4 21.41c.39.39.9.59 1.41.59.51 0 1.02-.2 1.41-.59l7.78-7.78 2.81-2.81c.8-.78.8-2.07 0-2.86zM5.41 20L4 18.59l7.72-7.72 1.47 1.35L5.41 20z\"/>\n",
              "  </svg>\n",
              "      </button>\n",
              "      \n",
              "  <style>\n",
              "    .colab-df-container {\n",
              "      display:flex;\n",
              "      flex-wrap:wrap;\n",
              "      gap: 12px;\n",
              "    }\n",
              "\n",
              "    .colab-df-convert {\n",
              "      background-color: #E8F0FE;\n",
              "      border: none;\n",
              "      border-radius: 50%;\n",
              "      cursor: pointer;\n",
              "      display: none;\n",
              "      fill: #1967D2;\n",
              "      height: 32px;\n",
              "      padding: 0 0 0 0;\n",
              "      width: 32px;\n",
              "    }\n",
              "\n",
              "    .colab-df-convert:hover {\n",
              "      background-color: #E2EBFA;\n",
              "      box-shadow: 0px 1px 2px rgba(60, 64, 67, 0.3), 0px 1px 3px 1px rgba(60, 64, 67, 0.15);\n",
              "      fill: #174EA6;\n",
              "    }\n",
              "\n",
              "    [theme=dark] .colab-df-convert {\n",
              "      background-color: #3B4455;\n",
              "      fill: #D2E3FC;\n",
              "    }\n",
              "\n",
              "    [theme=dark] .colab-df-convert:hover {\n",
              "      background-color: #434B5C;\n",
              "      box-shadow: 0px 1px 3px 1px rgba(0, 0, 0, 0.15);\n",
              "      filter: drop-shadow(0px 1px 2px rgba(0, 0, 0, 0.3));\n",
              "      fill: #FFFFFF;\n",
              "    }\n",
              "  </style>\n",
              "\n",
              "      <script>\n",
              "        const buttonEl =\n",
              "          document.querySelector('#df-bdb1873f-8d49-4ed3-a592-b0a06d044c04 button.colab-df-convert');\n",
              "        buttonEl.style.display =\n",
              "          google.colab.kernel.accessAllowed ? 'block' : 'none';\n",
              "\n",
              "        async function convertToInteractive(key) {\n",
              "          const element = document.querySelector('#df-bdb1873f-8d49-4ed3-a592-b0a06d044c04');\n",
              "          const dataTable =\n",
              "            await google.colab.kernel.invokeFunction('convertToInteractive',\n",
              "                                                     [key], {});\n",
              "          if (!dataTable) return;\n",
              "\n",
              "          const docLinkHtml = 'Like what you see? Visit the ' +\n",
              "            '<a target=\"_blank\" href=https://colab.research.google.com/notebooks/data_table.ipynb>data table notebook</a>'\n",
              "            + ' to learn more about interactive tables.';\n",
              "          element.innerHTML = '';\n",
              "          dataTable['output_type'] = 'display_data';\n",
              "          await google.colab.output.renderOutput(dataTable, element);\n",
              "          const docLink = document.createElement('div');\n",
              "          docLink.innerHTML = docLinkHtml;\n",
              "          element.appendChild(docLink);\n",
              "        }\n",
              "      </script>\n",
              "    </div>\n",
              "  </div>\n",
              "  "
            ]
          },
          "metadata": {},
          "execution_count": 7
        }
      ],
      "source": [
        "#bibliotecas \n",
        "import pandas as pd\n",
        "\n",
        " \n",
        "#https://drive.google.com/file/d/17xCfPrez0MXqbItgP6yLKAJ3DX_w7Kbr/view?usp=sharing\n",
        "\n",
        "print(\"\\nBem vindo! Neste trabalho iremos analisar alguns dados a respeito do ingresso de estudantes na UFABC por meio do SISU\")\n",
        " \n",
        "print(\"\\nAbaixo segue o nosso banco de dados, lugar esse que vamos buscar as informações de 5126 candidatos que se inscreveram na UFABC pelo SISU.\")\n",
        "print(\"Ele está na ordem padrão disponibilizado pela Universidade. São muitos dados!\\n\\n\\n\")\n",
        "\n",
        "df = pd.read_csv(\"https://drive.google.com/uc?id=17xCfPrez0MXqbItgP6yLKAJ3DX_w7Kbr&export=download\")\n",
        "df"
      ]
    },
    {
      "cell_type": "code",
      "execution_count": null,
      "metadata": {
        "id": "EJ4ALnTvNael",
        "colab": {
          "base_uri": "https://localhost:8080/"
        },
        "outputId": "51fff387-ebc8-474c-be7a-416a0f95df8d"
      },
      "outputs": [
        {
          "output_type": "stream",
          "name": "stdout",
          "text": [
            "Diante dessa vasta quantidade de informação, nosso grupo escolheu separar os dados de acordo com a modalidade que o candidato estava concorrendo\n",
            "    Os subgrupos de modalidade de inscrição ficaram:\n",
            "    A0 - Ampla concorrência \n",
            "    L1 - Escola Pública + Renda \n",
            "    L2 - Escola Pública + Renda + PPI \n",
            "    L5 - Escola Pública  \n",
            "    L6 - Escola Pública + PPI \n",
            "    L9 - Escola Pública + PCD + Renda \n",
            "    L10- Escola Pública + PCD + Revnda + PPI \n",
            "    L13 - Escola Pública + PCD \n",
            "    L14 - Escola Pública + PCD + PPI \n",
            "E agora por meio dessa organização em subgrupos, a análise de dados fica mais eficiente, uma vez que podemos olhar cada caso em particular.\n"
          ]
        }
      ],
      "source": [
        "\n",
        "#divisão dos subgrupos\n",
        "print(\"Diante dessa vasta quantidade de informação, nosso grupo escolheu separar os dados de acordo com a modalidade que o candidato estava concorrendo\")\n",
        "a = df.query(\"Chamada == 'Chamada Regular' and Modalidade == 'A0 - Ampla concorrência'\") \n",
        "b = df.query(\"Chamada == 'Chamada Regular' and Modalidade == 'L1 - Escola Pública + Renda'\")\n",
        "c = df.query(\"Chamada == 'Chamada Regular' and Modalidade == 'L2 - Escola Pública + Renda + PPI'\")\n",
        "d = df.query(\"Chamada == 'Chamada Regular' and Modalidade == 'L5 - Escola Pública'\")\n",
        "e = df.query(\"Chamada == 'Chamada Regular' and Modalidade == 'L6 - Escola Pública + PPI'\")\n",
        "f = df.query(\"Chamada == 'Chamada Regular' and Modalidade == 'L9 - Escola Pública + PCD + Renda'\")\n",
        "g = df.query(\"Chamada == 'Chamada Regular' and Modalidade == 'L10 - Escola Pública + PCD + Renda + PPI'\")\n",
        "h = df.query(\"Chamada == 'Chamada Regular' and Modalidade == 'L13 - Escola Pública + PCD'\")\n",
        "i = df.query(\"Chamada == 'Chamada Regular' and Modalidade == 'L14 - Escola Pública + PCD + PPI'\")\n",
        "\n",
        " \n",
        "# código da divisão dos subgrupos\n",
        "\n",
        "print(\"    Os subgrupos de modalidade de inscrição ficaram:\")\n",
        "print(\"    A0 - Ampla concorrência \")\n",
        "print(\"    L1 - Escola Pública + Renda \")\n",
        "print(\"    L2 - Escola Pública + Renda + PPI \")\n",
        "print(\"    L5 - Escola Pública  \")\n",
        "print(\"    L6 - Escola Pública + PPI \")\n",
        "print(\"    L9 - Escola Pública + PCD + Renda \") \n",
        "print(\"    L10- Escola Pública + PCD + Revnda + PPI \")\n",
        "print(\"    L13 - Escola Pública + PCD \")\n",
        "print(\"    L14 - Escola Pública + PCD + PPI \")\n",
        "print(\"E agora por meio dessa organização em subgrupos, a análise de dados fica mais eficiente, uma vez que podemos olhar cada caso em particular.\")\n",
        "\n",
        " \n",
        "# para realizar o comando do histograma o bins de cada gráfico foi escolhido para melhor visualização"
      ]
    },
    {
      "cell_type": "code",
      "execution_count": 12,
      "metadata": {
        "id": "5bBCYtvya13K",
        "colab": {
          "base_uri": "https://localhost:8080/",
          "height": 316
        },
        "outputId": "42bc50b9-237a-4f11-84b0-af6dfb73898a"
      },
      "outputs": [
        {
          "output_type": "stream",
          "name": "stdout",
          "text": [
            "A média das notas da ampla concorrência foi de  720.8061344537815\n",
            "A nota de corte da ampla concorrência foi 667.26\n"
          ]
        },
        {
          "output_type": "display_data",
          "data": {
            "text/plain": [
              "<Figure size 432x288 with 1 Axes>"
            ],
            "image/png": "[encoded data removed]"
          },
          "metadata": {
            "needs_background": "light"
          }
        }
      ],
      "source": [
        "# códigos para vizualização de dados da Ampla concorrência\n",
        "a.hist(column=\"Nota\", bins=200)\n",
        "print(\"A média das notas da ampla concorrência foi de \", a[\"Nota\"].mean())\n",
        "print(\"A nota de corte da ampla concorrência foi\", a[\"Nota\"].min())"
      ]
    },
    {
      "cell_type": "code",
      "execution_count": 13,
      "metadata": {
        "id": "yCZnGTXdbPIE",
        "outputId": "0b04331c-918b-4a2a-8324-0d68e43f1ba4",
        "colab": {
          "base_uri": "https://localhost:8080/",
          "height": 316
        }
      },
      "outputs": [
        {
          "output_type": "stream",
          "name": "stdout",
          "text": [
            "A média das notas da ampla concorrência foi de  720.8061344537815\n",
            "A nota de corte da ampla concorrência foi 667.26\n"
          ]
        },
        {
          "output_type": "display_data",
          "data": {
            "text/plain": [
              "<Figure size 432x288 with 1 Axes>"
            ],
            "image/png": "[encoded data removed]"
          },
          "metadata": {
            "needs_background": "light"
          }
        }
      ],
      "source": [
        "#códigos para vizualização de dados da Escola Pública + Renda \n",
        "b.hist(column=\"Nota\", bins=150)\n",
        "print(\"A média das notas da ampla concorrência foi de \", a[\"Nota\"].mean())\n",
        "print(\"A nota de corte da ampla concorrência foi\", a[\"Nota\"].min())"
      ]
    },
    {
      "cell_type": "code",
      "execution_count": 14,
      "metadata": {
        "id": "tvGW8oBpbSMS",
        "outputId": "9f644e32-d394-4fff-eb90-fee5c9733c70",
        "colab": {
          "base_uri": "https://localhost:8080/",
          "height": 316
        }
      },
      "outputs": [
        {
          "output_type": "stream",
          "name": "stdout",
          "text": [
            "A média das notas da Escola Pública + Renda + PPI foi de  630.1643292682926\n",
            "A nota de corte da Escola Pública + Renda + PPI foi 572.85\n"
          ]
        },
        {
          "output_type": "display_data",
          "data": {
            "text/plain": [
              "<Figure size 432x288 with 1 Axes>"
            ],
            "image/png": "[encoded data removed]"
          },
          "metadata": {
            "needs_background": "light"
          }
        }
      ],
      "source": [
        " #códigos para vizualização de dados da Escola Pública + Renda + PPI\n",
        "c.hist(column=\"Nota\", bins=100)\n",
        "print(\"A média das notas da Escola Pública + Renda + PPI foi de \",c[\"Nota\"].mean())\n",
        "print(\"A nota de corte da Escola Pública + Renda + PPI foi\", c[\"Nota\"].min())"
      ]
    },
    {
      "cell_type": "code",
      "execution_count": 15,
      "metadata": {
        "id": "veS7zlWmbVeK",
        "outputId": "b92efc32-e801-4935-ffa3-4676000d5f89",
        "colab": {
          "base_uri": "https://localhost:8080/",
          "height": 316
        }
      },
      "outputs": [
        {
          "output_type": "stream",
          "name": "stdout",
          "text": [
            "A média das notas da Escola Pública  foi de  696.8846440677967\n",
            "A nota de corte da Escola Pública  foi 652.37\n"
          ]
        },
        {
          "output_type": "display_data",
          "data": {
            "text/plain": [
              "<Figure size 432x288 with 1 Axes>"
            ],
            "image/png": "[encoded data removed]"
          },
          "metadata": {
            "needs_background": "light"
          }
        }
      ],
      "source": [
        "#códigos para vizualização de dados da Escola Pública\n",
        "d.hist(column=\"Nota\", bins=125)\n",
        "print(\"A média das notas da Escola Pública  foi de \",d[\"Nota\"].mean())\n",
        "print(\"A nota de corte da Escola Pública  foi\", d[\"Nota\"].min())"
      ]
    },
    {
      "cell_type": "code",
      "execution_count": 16,
      "metadata": {
        "id": "DfRA3W4FbXOZ",
        "outputId": "e6a2cbe1-87df-41b6-ce55-0961bf6f0cec",
        "colab": {
          "base_uri": "https://localhost:8080/",
          "height": 316
        }
      },
      "outputs": [
        {
          "output_type": "stream",
          "name": "stdout",
          "text": [
            "A média das notas da Escola Pública + PPI foi de  646.5964814814815\n",
            "A nota de corte da Escola Pública + PPI foi 598.65\n"
          ]
        },
        {
          "output_type": "display_data",
          "data": {
            "text/plain": [
              "<Figure size 432x288 with 1 Axes>"
            ],
            "image/png": "[encoded data removed]"
          },
          "metadata": {
            "needs_background": "light"
          }
        }
      ],
      "source": [
        "#códigos para vizualização de dados da Escola Pública + PPI\n",
        "e.hist(column=\"Nota\", bins=100)\n",
        "print(\"A média das notas da Escola Pública + PPI foi de \",e[\"Nota\"].mean())\n",
        "print(\"A nota de corte da Escola Pública + PPI foi\", e[\"Nota\"].min())"
      ]
    },
    {
      "cell_type": "code",
      "execution_count": 17,
      "metadata": {
        "id": "rR7nIA8HbXgt",
        "outputId": "7e8daba4-63eb-4c57-aae7-621ee4c59a5c",
        "colab": {
          "base_uri": "https://localhost:8080/",
          "height": 316
        }
      },
      "outputs": [
        {
          "output_type": "stream",
          "name": "stdout",
          "text": [
            "A média das notas da Escola Pública + PCD + Renda foi de  584.9449999999999\n",
            "A nota de corte da Escola Pública + PCD + Renda foi 558.58\n"
          ]
        },
        {
          "output_type": "display_data",
          "data": {
            "text/plain": [
              "<Figure size 432x288 with 1 Axes>"
            ],
            "image/png": "[encoded data removed]"
          },
          "metadata": {
            "needs_background": "light"
          }
        }
      ],
      "source": [
        "#códigos para vizualização de dados da Escola Pública + PCD + Renda\n",
        "f.hist(column=\"Nota\", bins=7)\n",
        "print(\"A média das notas da Escola Pública + PCD + Renda foi de \",f[\"Nota\"].mean())\n",
        "print(\"A nota de corte da Escola Pública + PCD + Renda foi\", f[\"Nota\"].min())"
      ]
    },
    {
      "cell_type": "code",
      "execution_count": 18,
      "metadata": {
        "id": "iX-_5fQ0bXyk",
        "outputId": "9371f421-fec9-4a53-b18e-15df4a5637cb",
        "colab": {
          "base_uri": "https://localhost:8080/",
          "height": 316
        }
      },
      "outputs": [
        {
          "output_type": "stream",
          "name": "stdout",
          "text": [
            "A média das notas da Escola Pública + PCD + Renda + PPI foi de  526.355\n",
            "A nota de corte da Escola Pública + PCD + Renda + PPI foi 502.76\n"
          ]
        },
        {
          "output_type": "display_data",
          "data": {
            "text/plain": [
              "<Figure size 432x288 with 1 Axes>"
            ],
            "image/png": "[encoded data removed]"
          },
          "metadata": {
            "needs_background": "light"
          }
        }
      ],
      "source": [
        "#códigos para vizualização de dados da Escola Pública + PCD + Renda + PPI\n",
        "g.hist(column=\"Nota\", bins=10)\n",
        "print(\"A média das notas da Escola Pública + PCD + Renda + PPI foi de \",g[\"Nota\"].mean())\n",
        "print(\"A nota de corte da Escola Pública + PCD + Renda + PPI foi\", g[\"Nota\"].min())"
      ]
    },
    {
      "cell_type": "code",
      "execution_count": 19,
      "metadata": {
        "id": "aEz033NPbeSp",
        "outputId": "533d6687-cd6a-4062-ca55-a43cc8bcf950",
        "colab": {
          "base_uri": "https://localhost:8080/",
          "height": 316
        }
      },
      "outputs": [
        {
          "output_type": "stream",
          "name": "stdout",
          "text": [
            "A média das notas da Escola Pública + PCD  foi de  579.2499999999999\n",
            "A nota de corte  da Escola Pública + PCD foi 506.65\n"
          ]
        },
        {
          "output_type": "display_data",
          "data": {
            "text/plain": [
              "<Figure size 432x288 with 1 Axes>"
            ],
            "image/png": "[encoded data removed]"
          },
          "metadata": {
            "needs_background": "light"
          }
        }
      ],
      "source": [
        "#códigos para vizualização de dados da Escola Pública + PCD\n",
        "h.hist(column=\"Nota\", bins=30)\n",
        "print(\"A média das notas da Escola Pública + PCD  foi de \",h[\"Nota\"].mean())\n",
        "print(\"A nota de corte  da Escola Pública + PCD foi\", h[\"Nota\"].min())"
      ]
    },
    {
      "cell_type": "code",
      "execution_count": 20,
      "metadata": {
        "id": "sP--kqWzbgBT",
        "outputId": "58fe9cff-9672-4bd8-d6e4-6cd777b46408",
        "colab": {
          "base_uri": "https://localhost:8080/",
          "height": 316
        }
      },
      "outputs": [
        {
          "output_type": "stream",
          "name": "stdout",
          "text": [
            "A média das notas da Escola Pública + PCD + PPI foi de  545.48\n",
            "A nota de corte da Escola Pública + PCD + PPI foi 545.48\n"
          ]
        },
        {
          "output_type": "display_data",
          "data": {
            "text/plain": [
              "<Figure size 432x288 with 1 Axes>"
            ],
            "image/png": "[encoded data removed]"
          },
          "metadata": {
            "needs_background": "light"
          }
        }
      ],
      "source": [
        "#códigos para vizualização de dados da Escola Pública + PCD + PPI\n",
        "i.hist(column=\"Nota\", bins=7)\n",
        "print(\"A média das notas da Escola Pública + PCD + PPI foi de \",i[\"Nota\"].mean())\n",
        "print(\"A nota de corte da Escola Pública + PCD + PPI foi\", i[\"Nota\"].min())"
      ]
    },
    {
      "cell_type": "code",
      "execution_count": 21,
      "metadata": {
        "colab": {
          "base_uri": "https://localhost:8080/"
        },
        "id": "vUhF6pNYKpj9",
        "outputId": "ffd4bb49-6d49-4c2f-9201-66544344df9f"
      },
      "outputs": [
        {
          "output_type": "stream",
          "name": "stdout",
          "text": [
            "E agora, calcule aqui sua nota do Sisu de acordo com os pesos da UFABC e suas notas do Enem!\n",
            "Digite sua modalidade: A0,L1,L2,L5,L6,L9,L10,L13 ou L14 A0\n",
            "\n",
            "Digite sua nota em Linguagens,Códigos e suas Tecnologias 788\n",
            "\n",
            "Digite sua nota em Matemática e suas Tecnologias 788\n",
            "\n",
            "Digite sua nota em Ciências humanas e suas Tecnologias 777\n",
            "\n",
            "Digite sua nota em Ciências da Natureza e suas Tecnologias 765\n",
            "\n",
            "Digite sua nota Redação 888\n",
            "\n",
            "\n",
            "Digite o seu curso 'bct' ou 'bch' bct\n",
            "\n",
            "Sua média foi de 804.0769230769231\n",
            "Você passaria!\n"
          ]
        }
      ],
      "source": [
        "print(\"E agora, calcule aqui sua nota do Sisu de acordo com os pesos da UFABC e suas notas do Enem!\")\n",
        "mod=input(\"Digite sua modalidade: A0,L1,L2,L5,L6,L9,L10,L13 ou L14 \")\n",
        "a1=float(input(\"\\nDigite sua nota em Linguagens,Códigos e suas Tecnologias \"))\n",
        "a2=float(input(\"\\nDigite sua nota em Matemática e suas Tecnologias \"))\n",
        "a3=float(input(\"\\nDigite sua nota em Ciências humanas e suas Tecnologias \"))\n",
        "a4=float(input(\"\\nDigite sua nota em Ciências da Natureza e suas Tecnologias \"))\n",
        "a5=float(input(\"\\nDigite sua nota Redação \"))\n",
        "curso=input(\"\\n\\nDigite o seu curso 'bct' ou 'bch' \")\n",
        "\n",
        "bctm=(a1*1+a2*1.5+a3*1+a4*1.5+a5*1.5)/6.5\n",
        "bchm=(a1*1.5+a2*1+a3*1.5+a4*1+a5*1.5)/6.5\n",
        "\n",
        "                                      #separação de modalidades\n",
        "if mod==\"A0\":       #A0\n",
        " limitn=a[\"Nota\"].min()\n",
        " \n",
        "if mod==\"L1\":     #L1\n",
        " limitn=b[\"Nota\"].min()\n",
        " \n",
        "if mod==\"L2\":     #L2\n",
        " limitn=c[\"Nota\"].min()\n",
        " \n",
        "if mod==\"L5\":     #L5\n",
        " limitn=d[\"Nota\"].min()\n",
        " \n",
        "if mod==\"L6\":     #L6\n",
        " limitn=e[\"Nota\"].min()\n",
        " \n",
        "if mod==\"L9\":     #L9\n",
        " limitn=f[\"Nota\"].min()\n",
        " \n",
        "if mod==\"L10\":     #L10\n",
        " limitn=g[\"Nota\"].min()\n",
        " \n",
        "if mod==\"L13\":     #L13\n",
        " limitn=h[\"Nota\"].min()\n",
        " \n",
        "if mod==\"L14\":     #L14\n",
        " limitn=i[\"Nota\"].min()\n",
        "\n",
        "\n",
        "if curso==\"bct\":\n",
        " print(\"\\nSua média foi de\",bctm)\n",
        " if bctm  > limitn:\n",
        "  print(\"Você passaria!\")\n",
        " else:\n",
        "   print(\"Você não passaria\")\n",
        "else:\n",
        " print(\"\\nSua média foi de\",bchm)\n",
        " if bchm > limitn:\n",
        "  print(\"Você passaria!\")\n",
        " else:\n",
        "  print(\"Você não passaria\")"
      ]
    }
  ],
  "metadata": {
    "colab": {
      "provenance": [],
      "include_colab_link": true
    },
    "kernelspec": {
      "display_name": "Python 3",
      "name": "python3"
    },
    "language_info": {
      "name": "python"
    }
  },
  "nbformat": 4,
  "nbformat_minor": 0
}